{
 "cells": [
  {
   "cell_type": "code",
   "execution_count": 1,
   "id": "3f67fb19",
   "metadata": {},
   "outputs": [],
   "source": [
    "import numpy as np\n",
    "import pandas as pd\n",
    "from sklearn.model_selection import train_test_split\n",
    "import re"
   ]
  },
  {
   "cell_type": "code",
   "execution_count": 2,
   "id": "ee37c5c9",
   "metadata": {},
   "outputs": [],
   "source": [
    "import tensorflow as tf\n",
    "from tensorflow import keras\n",
    "from tensorflow.keras.preprocessing.sequence import pad_sequences\n",
    "from tensorflow.keras.models import Model\n",
    "from tensorflow.keras import Input\n",
    "from tensorflow.keras.layers import add\n",
    "from tensorflow.keras.layers import LSTM, Embedding, Dense, TimeDistributed, Dropout, Conv1D, Bidirectional, Lambda\n",
    "from tensorflow.keras.layers import Bidirectional, concatenate, SpatialDropout1D, GlobalMaxPooling1D\n",
    "from tf2crf import CRF, ModelWithCRFLoss"
   ]
  },
  {
   "cell_type": "code",
   "execution_count": 3,
   "id": "34b91a76",
   "metadata": {},
   "outputs": [],
   "source": [
    "def split_tags(df):\n",
    "    tokes=[]\n",
    "    idxs=[]\n",
    "    sens=[]\n",
    "    for i in range(len(df)):\n",
    "        tk = df.iat[i,1].split(\" \")\n",
    "        for t in tk:\n",
    "            idxs.append(i+1)\n",
    "            sens.append(df.iat[i,1])\n",
    "            tokes.append(t)\n",
    "    newdf = pd.DataFrame({\"Record Number\":idxs, \"Title\":sens, \"Token\":tokes})\n",
    "    newdf.index = np.arange(1, len(newdf)+1)\n",
    "    return newdf"
   ]
  },
  {
   "cell_type": "code",
   "execution_count": 4,
   "id": "0ad7b85a",
   "metadata": {},
   "outputs": [],
   "source": [
    "class SentenceGetter(object):\n",
    "    \n",
    "    def __init__(self, data):\n",
    "        self.n_sent = 1\n",
    "        self.data = data\n",
    "        self.empty = False\n",
    "        agg_func = lambda s: [(w,p,t) for w,p,t in zip(s[\"Token\"].values.tolist(),\n",
    "                                                           s[\"POS\"].values.tolist(),\n",
    "                                                           s[\"BIO_tag\"].values.tolist())]\n",
    "        \n",
    "        self.grouped = self.data.groupby(\"Record Number\").apply(agg_func)\n",
    "        self.sentences = [s for s in self.grouped]"
   ]
  },
  {
   "cell_type": "code",
   "execution_count": 5,
   "id": "2c592eea",
   "metadata": {},
   "outputs": [],
   "source": [
    "df = pd.read_csv(\"df_modified1.csv\")"
   ]
  },
  {
   "cell_type": "code",
   "execution_count": 6,
   "id": "269335e9",
   "metadata": {},
   "outputs": [
    {
     "data": {
      "text/html": [
       "<div>\n",
       "<style scoped>\n",
       "    .dataframe tbody tr th:only-of-type {\n",
       "        vertical-align: middle;\n",
       "    }\n",
       "\n",
       "    .dataframe tbody tr th {\n",
       "        vertical-align: top;\n",
       "    }\n",
       "\n",
       "    .dataframe thead th {\n",
       "        text-align: right;\n",
       "    }\n",
       "</style>\n",
       "<table border=\"1\" class=\"dataframe\">\n",
       "  <thead>\n",
       "    <tr style=\"text-align: right;\">\n",
       "      <th></th>\n",
       "      <th>Record Number</th>\n",
       "      <th>Title</th>\n",
       "      <th>Token</th>\n",
       "      <th>BIO_tag</th>\n",
       "      <th>POS</th>\n",
       "    </tr>\n",
       "  </thead>\n",
       "  <tbody>\n",
       "    <tr>\n",
       "      <th>0</th>\n",
       "      <td>1</td>\n",
       "      <td>LOUIS VUITTON M40096 Handbag Priscilla Multi-c...</td>\n",
       "      <td>LOUIS</td>\n",
       "      <td>B-Brand</td>\n",
       "      <td>NNP</td>\n",
       "    </tr>\n",
       "    <tr>\n",
       "      <th>1</th>\n",
       "      <td>1</td>\n",
       "      <td>LOUIS VUITTON M40096 Handbag Priscilla Multi-c...</td>\n",
       "      <td>VUITTON</td>\n",
       "      <td>E-Brand</td>\n",
       "      <td>NNP</td>\n",
       "    </tr>\n",
       "    <tr>\n",
       "      <th>2</th>\n",
       "      <td>1</td>\n",
       "      <td>LOUIS VUITTON M40096 Handbag Priscilla Multi-c...</td>\n",
       "      <td>M40096</td>\n",
       "      <td>MPN</td>\n",
       "      <td>NNP</td>\n",
       "    </tr>\n",
       "    <tr>\n",
       "      <th>3</th>\n",
       "      <td>1</td>\n",
       "      <td>LOUIS VUITTON M40096 Handbag Priscilla Multi-c...</td>\n",
       "      <td>Handbag</td>\n",
       "      <td>Type</td>\n",
       "      <td>NNP</td>\n",
       "    </tr>\n",
       "    <tr>\n",
       "      <th>4</th>\n",
       "      <td>1</td>\n",
       "      <td>LOUIS VUITTON M40096 Handbag Priscilla Multi-c...</td>\n",
       "      <td>Priscilla</td>\n",
       "      <td>Model</td>\n",
       "      <td>NNP</td>\n",
       "    </tr>\n",
       "    <tr>\n",
       "      <th>...</th>\n",
       "      <td>...</td>\n",
       "      <td>...</td>\n",
       "      <td>...</td>\n",
       "      <td>...</td>\n",
       "      <td>...</td>\n",
       "    </tr>\n",
       "    <tr>\n",
       "      <th>78370</th>\n",
       "      <td>r_1999</td>\n",
       "      <td>Convertible Rivet LEATHER Knit Bucket Flap Bag...</td>\n",
       "      <td>Casual</td>\n",
       "      <td>Occasion</td>\n",
       "      <td>NNP</td>\n",
       "    </tr>\n",
       "    <tr>\n",
       "      <th>78371</th>\n",
       "      <td>r_1999</td>\n",
       "      <td>Convertible Rivet LEATHER Knit Bucket Flap Bag...</td>\n",
       "      <td>BAG</td>\n",
       "      <td>Type</td>\n",
       "      <td>NNP</td>\n",
       "    </tr>\n",
       "    <tr>\n",
       "      <th>78372</th>\n",
       "      <td>r_1999</td>\n",
       "      <td>Convertible Rivet LEATHER Knit Bucket Flap Bag...</td>\n",
       "      <td>from</td>\n",
       "      <td>No Tag</td>\n",
       "      <td>IN</td>\n",
       "    </tr>\n",
       "    <tr>\n",
       "      <th>78373</th>\n",
       "      <td>r_1999</td>\n",
       "      <td>Convertible Rivet LEATHER Knit Bucket Flap Bag...</td>\n",
       "      <td>S222</td>\n",
       "      <td>No Tag</td>\n",
       "      <td>NNP</td>\n",
       "    </tr>\n",
       "    <tr>\n",
       "      <th>78374</th>\n",
       "      <td>r_1999</td>\n",
       "      <td>Convertible Rivet LEATHER Knit Bucket Flap Bag...</td>\n",
       "      <td>TOP</td>\n",
       "      <td>No Tag</td>\n",
       "      <td>NNP</td>\n",
       "    </tr>\n",
       "  </tbody>\n",
       "</table>\n",
       "<p>78375 rows × 5 columns</p>\n",
       "</div>"
      ],
      "text/plain": [
       "      Record Number                                              Title  \\\n",
       "0                 1  LOUIS VUITTON M40096 Handbag Priscilla Multi-c...   \n",
       "1                 1  LOUIS VUITTON M40096 Handbag Priscilla Multi-c...   \n",
       "2                 1  LOUIS VUITTON M40096 Handbag Priscilla Multi-c...   \n",
       "3                 1  LOUIS VUITTON M40096 Handbag Priscilla Multi-c...   \n",
       "4                 1  LOUIS VUITTON M40096 Handbag Priscilla Multi-c...   \n",
       "...             ...                                                ...   \n",
       "78370        r_1999  Convertible Rivet LEATHER Knit Bucket Flap Bag...   \n",
       "78371        r_1999  Convertible Rivet LEATHER Knit Bucket Flap Bag...   \n",
       "78372        r_1999  Convertible Rivet LEATHER Knit Bucket Flap Bag...   \n",
       "78373        r_1999  Convertible Rivet LEATHER Knit Bucket Flap Bag...   \n",
       "78374        r_1999  Convertible Rivet LEATHER Knit Bucket Flap Bag...   \n",
       "\n",
       "           Token   BIO_tag  POS  \n",
       "0          LOUIS   B-Brand  NNP  \n",
       "1        VUITTON   E-Brand  NNP  \n",
       "2         M40096       MPN  NNP  \n",
       "3        Handbag      Type  NNP  \n",
       "4      Priscilla     Model  NNP  \n",
       "...          ...       ...  ...  \n",
       "78370     Casual  Occasion  NNP  \n",
       "78371        BAG      Type  NNP  \n",
       "78372       from    No Tag   IN  \n",
       "78373       S222    No Tag  NNP  \n",
       "78374        TOP    No Tag  NNP  \n",
       "\n",
       "[78375 rows x 5 columns]"
      ]
     },
     "execution_count": 6,
     "metadata": {},
     "output_type": "execute_result"
    }
   ],
   "source": [
    "df"
   ]
  },
  {
   "cell_type": "code",
   "execution_count": 7,
   "id": "9c433a9c",
   "metadata": {},
   "outputs": [
    {
     "data": {
      "text/plain": [
       "122"
      ]
     },
     "execution_count": 7,
     "metadata": {},
     "output_type": "execute_result"
    }
   ],
   "source": [
    "maxlen = max(len(s) for s in list(df['Title']))\n",
    "maxlen"
   ]
  },
  {
   "cell_type": "code",
   "execution_count": 8,
   "id": "5b174aab",
   "metadata": {},
   "outputs": [],
   "source": [
    "words = list(set(df['Token']))\n",
    "tags = list(set(df['BIO_tag']))\n",
    "pos = list(set(df['POS']))"
   ]
  },
  {
   "cell_type": "code",
   "execution_count": 9,
   "id": "26eff8b7",
   "metadata": {},
   "outputs": [],
   "source": [
    "getter=SentenceGetter(df)\n",
    "sentences = getter.sentences"
   ]
  },
  {
   "cell_type": "code",
   "execution_count": 10,
   "id": "1fa6a65f",
   "metadata": {},
   "outputs": [],
   "source": [
    "def get_model_list(f, delim=\"<|>\"):\n",
    "    with open(f,'r',encoding='utf-8') as f:\n",
    "        d={}\n",
    "        while True:\n",
    "            try:\n",
    "                line = f.readline()\n",
    "                line = str(line).split(delim)\n",
    "                d[str(line[0])]=int(str(line[1]).replace('\\n',''))\n",
    "            except:\n",
    "                break\n",
    "    f.close()\n",
    "    return d"
   ]
  },
  {
   "cell_type": "code",
   "execution_count": 11,
   "id": "7bf0c936",
   "metadata": {},
   "outputs": [],
   "source": [
    "#coded indexing\n",
    "word2idx = get_model_list(\"train_words.txt\")\n",
    "pos2idx = get_model_list(\"pos_tags.txt\")\n",
    "tag2idx = get_model_list(\"bio_tags.txt\")"
   ]
  },
  {
   "cell_type": "code",
   "execution_count": 12,
   "id": "e1f68b9c",
   "metadata": {},
   "outputs": [],
   "source": [
    "max_len=128"
   ]
  },
  {
   "cell_type": "code",
   "execution_count": 13,
   "id": "28993db7",
   "metadata": {},
   "outputs": [
    {
     "data": {
      "text/plain": [
       "114"
      ]
     },
     "execution_count": 13,
     "metadata": {},
     "output_type": "execute_result"
    }
   ],
   "source": [
    "len(tag2idx)"
   ]
  },
  {
   "cell_type": "code",
   "execution_count": 14,
   "id": "8dfb5daf",
   "metadata": {},
   "outputs": [],
   "source": [
    "X_word = [[word2idx[w[0]] if w[0] in word2idx.keys() else '1' for w in s] for s in sentences]\n",
    "X_word = pad_sequences(maxlen=max_len, sequences=X_word, value=word2idx[\"PAD\"], padding='post', truncating='post')"
   ]
  },
  {
   "cell_type": "code",
   "execution_count": 15,
   "id": "de09ccee",
   "metadata": {},
   "outputs": [],
   "source": [
    "X_pos = [[pos2idx[w[1]] if w[1] in pos2idx.keys() else '1' for w in s] for s in sentences]\n",
    "X_pos = pad_sequences(maxlen=max_len, sequences=X_pos, value=pos2idx[\"PAD\"], padding='post', truncating='post')"
   ]
  },
  {
   "cell_type": "code",
   "execution_count": 16,
   "id": "4d602bfe",
   "metadata": {},
   "outputs": [],
   "source": [
    "y = [[tag2idx[w[2]] for w in s] for s in sentences]\n",
    "y = pad_sequences(maxlen=max_len, sequences=y, value=tag2idx[\"PAD\"], padding='post', truncating='post')"
   ]
  },
  {
   "cell_type": "code",
   "execution_count": 17,
   "id": "0c46232b",
   "metadata": {},
   "outputs": [],
   "source": [
    "X_train_w, X_test_w, y_train, y_test = train_test_split(X_word, y, test_size=0.1, random_state=1234)\n",
    "X_train_pos, X_test_pos, _, _ = train_test_split(X_pos, y, test_size=0.1, random_state=1234)"
   ]
  },
  {
   "cell_type": "code",
   "execution_count": 18,
   "id": "6c3de5e6",
   "metadata": {},
   "outputs": [],
   "source": [
    "train_input = [X_train_w, X_train_pos]"
   ]
  },
  {
   "cell_type": "code",
   "execution_count": 19,
   "id": "aca74c28",
   "metadata": {},
   "outputs": [],
   "source": [
    "train_input = [X_word, X_pos]"
   ]
  },
  {
   "cell_type": "code",
   "execution_count": 20,
   "id": "5c3202a5",
   "metadata": {},
   "outputs": [],
   "source": [
    "import keras.backend as K\n",
    "\n",
    "def f1_metric(y_true, y_pred):\n",
    "    true_positives = K.sum(K.round(K.clip(y_true * y_pred, 0, 1)))\n",
    "    possible_positives = K.sum(K.round(K.clip(y_true, 0, 1)))\n",
    "    predicted_positives = K.sum(K.round(K.clip(y_pred, 0, 1)))\n",
    "    precision = true_positives / (predicted_positives + K.epsilon())\n",
    "    recall = true_positives / (possible_positives + K.epsilon())\n",
    "    f1_val = 2*(precision*recall)/(precision+recall+K.epsilon())\n",
    "    return f1_val"
   ]
  },
  {
   "cell_type": "code",
   "execution_count": 21,
   "id": "ee75fc00",
   "metadata": {},
   "outputs": [],
   "source": [
    "#----------Model Setup----------\n",
    "\n",
    "\n",
    "# input and embedding for words\n",
    "word_input = Input(shape=(max_len,), name=\"Word_Inputs\")\n",
    "emb_word = Embedding(input_dim=len(word2idx)+1, output_dim=64, input_length=max_len, mask_zero=True, name=\"Word_Embed\")(word_input)\n",
    "\n",
    "# input and embedding for parts of speech\n",
    "pos_input = Input(shape=(max_len,), name=\"POS_Inputs\")\n",
    "emb_pos = Embedding(input_dim=len(pos2idx)+1, output_dim=32, input_length=max_len, mask_zero=True, name=\"POS_Embed\")(pos_input)\n",
    "\n",
    "x = concatenate([emb_word, emb_pos], name=\"Main_Input\")\n",
    "x = SpatialDropout1D(0.2, name=\"Main_Dropout\")(x)\n",
    "\n",
    "x = Bidirectional(LSTM(units=512, return_sequences=True, recurrent_dropout=0.2, dropout=0.2))(x)\n",
    "\n",
    "x_rnn = Bidirectional(LSTM(units=512, return_sequences=True, recurrent_dropout=0.2, dropout=0.2))(x)\n",
    "\n",
    "x = add([x, x_rnn])  # residual connection to the first biLSTM\n",
    "\n",
    "out = TimeDistributed(Dense(len(tag2idx)+1, activation=\"softmax\"))(x)\n",
    "model = Model([word_input, pos_input], out, name='Model_2.2')\n",
    "\n",
    "# x = concatenate([emb_word, emb_pos], name=\"Main_Input\")\n",
    "# x = SpatialDropout1D(0.2, name=\"Main_Dropout\")(x)\n",
    "# x = Bidirectional(LSTM(units=512, return_sequences=True, recurrent_dropout=0.2),name=\"Main_LSTM\")(x)\n",
    "# out = TimeDistributed(Dense(len(tag2idx)+1, activation=\"sigmoid\"), name=\"Main_Dense_Output\")(x)\n",
    "# model = Model([word_input, pos_input], out, name='Model_2.2')\n"
   ]
  },
  {
   "cell_type": "code",
   "execution_count": 22,
   "id": "5aa95ade",
   "metadata": {},
   "outputs": [
    {
     "name": "stdout",
     "output_type": "stream",
     "text": [
      "Model: \"Model_2.2\"\n",
      "__________________________________________________________________________________________________\n",
      " Layer (type)                   Output Shape         Param #     Connected to                     \n",
      "==================================================================================================\n",
      " Word_Inputs (InputLayer)       [(None, 128)]        0           []                               \n",
      "                                                                                                  \n",
      " POS_Inputs (InputLayer)        [(None, 128)]        0           []                               \n",
      "                                                                                                  \n",
      " Word_Embed (Embedding)         (None, 128, 64)      3799488     ['Word_Inputs[0][0]']            \n",
      "                                                                                                  \n",
      " POS_Embed (Embedding)          (None, 128, 32)      1568        ['POS_Inputs[0][0]']             \n",
      "                                                                                                  \n",
      " Main_Input (Concatenate)       (None, 128, 96)      0           ['Word_Embed[0][0]',             \n",
      "                                                                  'POS_Embed[0][0]']              \n",
      "                                                                                                  \n",
      " Main_Dropout (SpatialDropout1D  (None, 128, 96)     0           ['Main_Input[0][0]']             \n",
      " )                                                                                                \n",
      "                                                                                                  \n",
      " bidirectional (Bidirectional)  (None, 128, 1024)    2494464     ['Main_Dropout[0][0]']           \n",
      "                                                                                                  \n",
      " bidirectional_1 (Bidirectional  (None, 128, 1024)   6295552     ['bidirectional[0][0]']          \n",
      " )                                                                                                \n",
      "                                                                                                  \n",
      " add (Add)                      (None, 128, 1024)    0           ['bidirectional[0][0]',          \n",
      "                                                                  'bidirectional_1[0][0]']        \n",
      "                                                                                                  \n",
      " time_distributed (TimeDistribu  (None, 128, 115)    117875      ['add[0][0]']                    \n",
      " ted)                                                                                             \n",
      "                                                                                                  \n",
      "==================================================================================================\n",
      "Total params: 12,708,947\n",
      "Trainable params: 12,708,947\n",
      "Non-trainable params: 0\n",
      "__________________________________________________________________________________________________\n"
     ]
    }
   ],
   "source": [
    "model.compile(optimizer=\"adam\", loss=\"sparse_categorical_crossentropy\", metrics=[\"acc\",f1_metric])\n",
    "model.summary()"
   ]
  },
  {
   "cell_type": "code",
   "execution_count": 23,
   "id": "b92a049c",
   "metadata": {},
   "outputs": [],
   "source": [
    "tf.config.run_functions_eagerly(True)"
   ]
  },
  {
   "cell_type": "code",
   "execution_count": 24,
   "id": "6c336059",
   "metadata": {
    "scrolled": false
   },
   "outputs": [
    {
     "name": "stdout",
     "output_type": "stream",
     "text": [
      "Epoch 1/12\n"
     ]
    },
    {
     "name": "stderr",
     "output_type": "stream",
     "text": [
      "C:\\Users\\Tony\\anaconda3\\envs\\tf\\lib\\site-packages\\tensorflow\\python\\data\\ops\\structured_function.py:264: UserWarning: Even though the `tf.config.experimental_run_functions_eagerly` option is set, this option does not apply to tf.data functions. To force eager execution of tf.data functions, please use `tf.data.experimental.enable_debug_mode()`.\n",
      "  warnings.warn(\n"
     ]
    },
    {
     "name": "stdout",
     "output_type": "stream",
     "text": [
      "99/99 [==============================] - 3622s 37s/step - loss: 0.2327 - acc: 0.3684 - f1_metric: 40.4996 - val_loss: 0.1693 - val_acc: 0.5656 - val_f1_metric: 20.3098\n",
      "Epoch 2/12\n",
      "99/99 [==============================] - 4048s 41s/step - loss: 0.1229 - acc: 0.6540 - f1_metric: 12.8004 - val_loss: 0.0953 - val_acc: 0.7314 - val_f1_metric: 8.6788\n",
      "Epoch 3/12\n",
      "99/99 [==============================] - 4202s 42s/step - loss: 0.0750 - acc: 0.7848 - f1_metric: 6.9921 - val_loss: 0.0640 - val_acc: 0.8183 - val_f1_metric: 5.4788\n",
      "Epoch 4/12\n",
      "99/99 [==============================] - 7581s 77s/step - loss: 0.0514 - acc: 0.8511 - f1_metric: 4.6768 - val_loss: 0.0488 - val_acc: 0.8614 - val_f1_metric: 3.8525\n",
      "Epoch 5/12\n",
      "99/99 [==============================] - 4370s 44s/step - loss: 0.0380 - acc: 0.8878 - f1_metric: 3.6322 - val_loss: 0.0366 - val_acc: 0.8934 - val_f1_metric: 3.2241\n",
      "Epoch 6/12\n",
      "99/99 [==============================] - 4387s 44s/step - loss: 0.0295 - acc: 0.9105 - f1_metric: 2.9533 - val_loss: 0.0332 - val_acc: 0.9004 - val_f1_metric: 2.6614\n",
      "Epoch 7/12\n",
      "99/99 [==============================] - 4395s 44s/step - loss: 0.0241 - acc: 0.9247 - f1_metric: 2.5602 - val_loss: 0.0286 - val_acc: 0.9126 - val_f1_metric: 2.4080\n",
      "Epoch 8/12\n",
      "99/99 [==============================] - 13836s 141s/step - loss: 0.0196 - acc: 0.9383 - f1_metric: 2.2913 - val_loss: 0.0267 - val_acc: 0.9188 - val_f1_metric: 2.1289\n",
      "Epoch 9/12\n",
      "99/99 [==============================] - 4394s 44s/step - loss: 0.0166 - acc: 0.9465 - f1_metric: 2.0862 - val_loss: 0.0260 - val_acc: 0.9179 - val_f1_metric: 1.9962\n",
      "Epoch 10/12\n",
      "99/99 [==============================] - 4415s 45s/step - loss: 0.0139 - acc: 0.9547 - f1_metric: 1.9292 - val_loss: 0.0252 - val_acc: 0.9211 - val_f1_metric: 1.9257\n",
      "Epoch 11/12\n",
      "99/99 [==============================] - 13563s 138s/step - loss: 0.0115 - acc: 0.9621 - f1_metric: 1.8037 - val_loss: 0.0239 - val_acc: 0.9261 - val_f1_metric: 1.8213\n",
      "Epoch 12/12\n",
      "99/99 [==============================] - 4447s 45s/step - loss: 0.0099 - acc: 0.9673 - f1_metric: 1.7113 - val_loss: 0.0242 - val_acc: 0.9251 - val_f1_metric: 1.7213\n"
     ]
    }
   ],
   "source": [
    "history = model.fit(train_input,\n",
    "                    np.array(y).reshape(len(y), max_len, 1),\n",
    "                    batch_size=64, \n",
    "                    epochs=12, \n",
    "                    validation_split=0.1, \n",
    "                    verbose=1)"
   ]
  },
  {
   "cell_type": "code",
   "execution_count": 25,
   "id": "f272d26d",
   "metadata": {},
   "outputs": [],
   "source": [
    "model.save_weights(\"./model/model_2.2_checkpoint1\")"
   ]
  },
  {
   "cell_type": "code",
   "execution_count": 26,
   "id": "b72c3946",
   "metadata": {},
   "outputs": [
    {
     "name": "stderr",
     "output_type": "stream",
     "text": [
      "WARNING:absl:Function `_wrapped_model` contains input name(s) Word_Inputs, POS_Inputs with unsupported characters which will be renamed to word_inputs, pos_inputs in the SavedModel.\n"
     ]
    },
    {
     "name": "stdout",
     "output_type": "stream",
     "text": [
      "INFO:tensorflow:Assets written to: ./model/model_2.2\\assets\n"
     ]
    },
    {
     "name": "stderr",
     "output_type": "stream",
     "text": [
      "INFO:tensorflow:Assets written to: ./model/model_2.2\\assets\n"
     ]
    }
   ],
   "source": [
    "model.save(\"./model/model_2.2\")"
   ]
  },
  {
   "cell_type": "code",
   "execution_count": 27,
   "id": "a2ec1271",
   "metadata": {},
   "outputs": [],
   "source": [
    "hist = pd.DataFrame(history.history)"
   ]
  },
  {
   "cell_type": "code",
   "execution_count": 30,
   "id": "86eed521",
   "metadata": {
    "scrolled": true
   },
   "outputs": [
    {
     "data": {
      "image/png": "[encoded data removed]",
      "text/plain": [
       "<Figure size 864x864 with 1 Axes>"
      ]
     },
     "metadata": {
      "needs_background": "light"
     },
     "output_type": "display_data"
    }
   ],
   "source": [
    "import matplotlib.pyplot as plt\n",
    "plt.style.use(\"ggplot\")\n",
    "plt.figure(figsize=(12,12))\n",
    "plt.plot(hist[\"acc\"], color=\"red\")\n",
    "plt.plot(hist[\"val_acc\"], color=\"blue\")\n",
    "plt.show()\n"
   ]
  },
  {
   "cell_type": "code",
   "execution_count": 28,
   "id": "939e09fc",
   "metadata": {},
   "outputs": [],
   "source": [
    "test_input = [X_test_w, X_test_pos]"
   ]
  },
  {
   "cell_type": "code",
   "execution_count": 29,
   "id": "a45a9dd5",
   "metadata": {},
   "outputs": [
    {
     "name": "stderr",
     "output_type": "stream",
     "text": [
      "C:\\Users\\Tony\\anaconda3\\envs\\tf\\lib\\site-packages\\tensorflow\\python\\data\\ops\\structured_function.py:264: UserWarning: Even though the `tf.config.experimental_run_functions_eagerly` option is set, this option does not apply to tf.data functions. To force eager execution of tf.data functions, please use `tf.data.experimental.enable_debug_mode()`.\n",
      "  warnings.warn(\n"
     ]
    },
    {
     "name": "stdout",
     "output_type": "stream",
     "text": [
      "22/22 [==============================] - 409s 19s/step\n"
     ]
    }
   ],
   "source": [
    "y_pred = model.predict(test_input)"
   ]
  },
  {
   "cell_type": "code",
   "execution_count": 31,
   "id": "0424c8f7",
   "metadata": {},
   "outputs": [],
   "source": [
    "np.save(\"ypred_model2.2\",y_pred)"
   ]
  },
  {
   "cell_type": "code",
   "execution_count": null,
   "id": "666441e3",
   "metadata": {},
   "outputs": [],
   "source": []
  }
 ],
 "metadata": {
  "kernelspec": {
   "display_name": "Python 3 (ipykernel)",
   "language": "python",
   "name": "python3"
  },
  "language_info": {
   "codemirror_mode": {
    "name": "ipython",
    "version": 3
   },
   "file_extension": ".py",
   "mimetype": "text/x-python",
   "name": "python",
   "nbconvert_exporter": "python",
   "pygments_lexer": "ipython3",
   "version": "3.8.13"
  }
 },
 "nbformat": 4,
 "nbformat_minor": 5
}
