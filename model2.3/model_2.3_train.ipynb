{
 "cells": [
  {
   "cell_type": "code",
   "execution_count": 36,
   "id": "3f67fb19",
   "metadata": {},
   "outputs": [],
   "source": [
    "import numpy as np\n",
    "import pandas as pd\n",
    "from sklearn.model_selection import train_test_split\n",
    "import re"
   ]
  },
  {
   "cell_type": "code",
   "execution_count": 37,
   "id": "ee37c5c9",
   "metadata": {},
   "outputs": [],
   "source": [
    "import tensorflow as tf\n",
    "from tensorflow import keras\n",
    "from tensorflow.keras.preprocessing.sequence import pad_sequences\n",
    "from tensorflow.keras.models import Model\n",
    "from tensorflow.keras import Input\n",
    "from tensorflow.keras.layers import add\n",
    "from tensorflow.keras.layers import LSTM, Embedding, Dense, TimeDistributed, Dropout, Conv1D, Bidirectional, Lambda\n",
    "from tensorflow.keras.layers import Bidirectional, concatenate, SpatialDropout1D, GlobalMaxPooling1D\n",
    "from tf2crf import CRF, ModelWithCRFLoss"
   ]
  },
  {
   "cell_type": "code",
   "execution_count": 39,
   "id": "0ad7b85a",
   "metadata": {},
   "outputs": [],
   "source": [
    "class SentenceGetter(object):\n",
    "    \n",
    "    def __init__(self, data):\n",
    "        self.n_sent = 1\n",
    "        self.data = data\n",
    "        self.empty = False\n",
    "        agg_func = lambda s: [(w,p,t) for w,p,t in zip(s[\"Token\"].values.tolist(),\n",
    "                                                           s[\"POS\"].values.tolist(),\n",
    "                                                           s[\"BIO_tag\"].values.tolist())]\n",
    "        \n",
    "        self.grouped = self.data.groupby(\"Record Number\").apply(agg_func)\n",
    "        self.sentences = [s for s in self.grouped]"
   ]
  },
  {
   "cell_type": "code",
   "execution_count": 60,
   "id": "1fa6a65f",
   "metadata": {},
   "outputs": [],
   "source": [
    "def get_model_list(f, delim=\"<|>\"):\n",
    "    with open(f,'r',encoding='utf-8') as f:\n",
    "        d={}\n",
    "        while True:\n",
    "            try:\n",
    "                line = f.readline()\n",
    "                line = str(line).split(delim)\n",
    "                d[str(line[0])]=int(str(line[1]).replace('\\n',''))\n",
    "            except:\n",
    "                break\n",
    "    f.close()\n",
    "    return d"
   ]
  },
  {
   "cell_type": "code",
   "execution_count": 55,
   "id": "2c592eea",
   "metadata": {},
   "outputs": [],
   "source": [
    "df = pd.read_csv(\"df_modified2.csv\")"
   ]
  },
  {
   "cell_type": "code",
   "execution_count": 57,
   "id": "9c433a9c",
   "metadata": {},
   "outputs": [
    {
     "data": {
      "text/plain": [
       "129"
      ]
     },
     "execution_count": 57,
     "metadata": {},
     "output_type": "execute_result"
    }
   ],
   "source": [
    "maxlen = max(len(s) for s in list(df['Title']))\n",
    "maxlen"
   ]
  },
  {
   "cell_type": "code",
   "execution_count": 58,
   "id": "5b174aab",
   "metadata": {},
   "outputs": [],
   "source": [
    "words = list(set(df['Token']))\n",
    "tags = list(set(df['BIO_tag']))\n",
    "pos = list(set(df['POS']))"
   ]
  },
  {
   "cell_type": "code",
   "execution_count": 59,
   "id": "26eff8b7",
   "metadata": {},
   "outputs": [],
   "source": [
    "getter=SentenceGetter(df)\n",
    "sentences = getter.sentences"
   ]
  },
  {
   "cell_type": "code",
   "execution_count": 84,
   "id": "7bf0c936",
   "metadata": {},
   "outputs": [],
   "source": [
    "#coded embedding indexing\n",
    "word2idx = get_model_list(\"train_words.txt\")\n",
    "pos2idx = get_model_list(\"pos_tags.txt\")\n",
    "tag2idx = get_model_list(\"bio_tags.txt\")\n",
    "char2idx = get_model_list(\"train_chars.txt\")"
   ]
  },
  {
   "cell_type": "code",
   "execution_count": 62,
   "id": "e1f68b9c",
   "metadata": {},
   "outputs": [],
   "source": [
    "max_len=128\n",
    "max_len_char=128"
   ]
  },
  {
   "cell_type": "code",
   "execution_count": 63,
   "id": "8dfb5daf",
   "metadata": {},
   "outputs": [],
   "source": [
    "X_word = [[word2idx[w[0]] if w[0] in word2idx.keys() else '1' for w in s] for s in sentences]\n",
    "X_word = pad_sequences(maxlen=max_len, sequences=X_word, value=word2idx[\"PAD\"], padding='post', truncating='post')"
   ]
  },
  {
   "cell_type": "code",
   "execution_count": 64,
   "id": "de09ccee",
   "metadata": {},
   "outputs": [],
   "source": [
    "X_pos = [[pos2idx[w[1]] if w[1] in pos2idx.keys() else '1' for w in s] for s in sentences]\n",
    "X_pos = pad_sequences(maxlen=max_len, sequences=X_pos, value=pos2idx[\"PAD\"], padding='post', truncating='post')"
   ]
  },
  {
   "cell_type": "code",
   "execution_count": 87,
   "id": "04a69797",
   "metadata": {},
   "outputs": [],
   "source": [
    "X_char = []\n",
    "for sentence in sentences:\n",
    "    sent_seq = []\n",
    "    for i in range(max_len):\n",
    "        word_seq = []\n",
    "        for j in range(max_len_char):\n",
    "            try:\n",
    "                word_seq.append(char2idx.get(sentence[i][0][j]))\n",
    "            except:\n",
    "                if i>=len(sentence):\n",
    "                    word_seq.append(char2idx[\"PAD\"])\n",
    "                elif j>=len(str(sentence[i][0])):\n",
    "                    word_seq.append(char2idx[\"PAD\"])\n",
    "                elif not str(sentence[i][0][j]) in char2idx.keys():\n",
    "                    word_seq.append(char2idx[\"UNK\"])\n",
    "                else:\n",
    "                    word_seq.append(char2idx['PAD'])\n",
    "                    \n",
    "        sent_seq.append(word_seq)\n",
    "    X_char.append(np.array(sent_seq))\n",
    "XX_char = np.asarray(X_char).astype(\"float\")\n",
    "XX_char = np.where(XX_char==None, 1, XX_char)"
   ]
  },
  {
   "cell_type": "code",
   "execution_count": 88,
   "id": "4d602bfe",
   "metadata": {},
   "outputs": [],
   "source": [
    "y = [[tag2idx[w[2]] for w in s] for s in sentences]\n",
    "y = pad_sequences(maxlen=max_len, sequences=y, value=tag2idx[\"PAD\"], padding='post', truncating='post')"
   ]
  },
  {
   "cell_type": "code",
   "execution_count": 89,
   "id": "0c46232b",
   "metadata": {},
   "outputs": [],
   "source": [
    "X_train_w, X_test_w, y_train, y_test = train_test_split(X_word, y, test_size=0.1, random_state=1234)\n",
    "X_train_pos, X_test_pos, _, _ = train_test_split(X_pos, y, test_size=0.1, random_state=1234)\n",
    "X_train_char, X_test_char, _, _ = train_test_split(XX_char, y, test_size=0.1, random_state=1234)"
   ]
  },
  {
   "cell_type": "code",
   "execution_count": 90,
   "id": "aca74c28",
   "metadata": {},
   "outputs": [],
   "source": [
    "#train_input = [X_train_w, X_train_pos, X_train_char]\n",
    "train_input = [X_word, X_pos, XX_char]"
   ]
  },
  {
   "cell_type": "code",
   "execution_count": 91,
   "id": "ee75fc00",
   "metadata": {},
   "outputs": [],
   "source": [
    "#----------Model Setup----------\n",
    "\n",
    "#-----Input Setup-----\n",
    "# embedding for words\n",
    "word_input = Input(shape=(max_len,), name=\"Word_Inputs\")\n",
    "emb_word = Embedding(input_dim=len(word2idx)+1, output_dim=64, input_length=max_len, mask_zero=True, name=\"Word_Embed\")(word_input)\n",
    "\n",
    "# embedding for parts of speech\n",
    "pos_input = Input(shape=(max_len,), name=\"POS_Inputs\")\n",
    "emb_pos = Embedding(input_dim=len(pos2idx)+1, output_dim=32, input_length=max_len, mask_zero=True, name=\"POS_Embed\")(pos_input)\n",
    "\n",
    "# embedding for chars\n",
    "char_input = Input(shape=(max_len, max_len_char,), name=\"Char_Inputs\")\n",
    "emb_char = TimeDistributed(Embedding(input_dim=max_len_char+, output_dim=32,input_length=max_len_char, mask_zero=True, name=\"Char_Embed\"), name=\"Char_Time_Dist\")(char_input)\n",
    "char_enc = TimeDistributed(LSTM(units=32, return_sequences=False, recurrent_dropout=0.2), name=\"Char_LSTM_Enc\")(emb_char)\n",
    "\n",
    "#Input Concat\n",
    "x = concatenate([emb_word, emb_pos, char_enc], name=\"Main_Input\")\n",
    "x = SpatialDropout1D(0.2, name=\"Main_Dropout\")(x)\n",
    "\n",
    "#-----LSTM-----\n",
    "x = Bidirectional(LSTM(units=256, return_sequences=True, recurrent_dropout=0.2, dropout=0.2,name=\"LSTM_1\"))(x)\n",
    "x_rnn = Bidirectional(LSTM(units=256, return_sequences=True, recurrent_dropout=0.2, dropout=0.2,name=\"LSTM_2\"))(x)\n",
    "x = add([x, x_rnn])  \n",
    "\n",
    "#out = TimeDistributed(Dense(len(tag2idx)+1, activation=\"softmax\",name=\"Dense_Output\"))(x)\n",
    "\n",
    "crf = CRF(units=9, type='float32')\n",
    "out = crf(x)\n",
    "base = Model([word_input,pos_input,char_input], out, name=\"Model_2.4\")\n",
    "model = Model([word_input, pos_input, char_input], out, name='Model_2.3')\n",
    "\n"
   ]
  },
  {
   "cell_type": "code",
   "execution_count": 92,
   "id": "5aa95ade",
   "metadata": {},
   "outputs": [
    {
     "name": "stdout",
     "output_type": "stream",
     "text": [
      "Model: \"Model_2.3\"\n",
      "__________________________________________________________________________________________________\n",
      " Layer (type)                   Output Shape         Param #     Connected to                     \n",
      "==================================================================================================\n",
      " Char_Inputs (InputLayer)       [(None, 128, 128)]   0           []                               \n",
      "                                                                                                  \n",
      " Word_Inputs (InputLayer)       [(None, 128)]        0           []                               \n",
      "                                                                                                  \n",
      " POS_Inputs (InputLayer)        [(None, 128)]        0           []                               \n",
      "                                                                                                  \n",
      " Char_Time_Dist (TimeDistribute  (None, 128, 128, 32  4128       ['Char_Inputs[0][0]']            \n",
      " d)                             )                                                                 \n",
      "                                                                                                  \n",
      " Word_Embed (Embedding)         (None, 128, 64)      3799488     ['Word_Inputs[0][0]']            \n",
      "                                                                                                  \n",
      " POS_Embed (Embedding)          (None, 128, 32)      1568        ['POS_Inputs[0][0]']             \n",
      "                                                                                                  \n",
      " Char_LSTM_Enc (TimeDistributed  (None, 128, 32)     8320        ['Char_Time_Dist[0][0]']         \n",
      " )                                                                                                \n",
      "                                                                                                  \n",
      " Main_Input (Concatenate)       (None, 128, 128)     0           ['Word_Embed[0][0]',             \n",
      "                                                                  'POS_Embed[0][0]',              \n",
      "                                                                  'Char_LSTM_Enc[0][0]']          \n",
      "                                                                                                  \n",
      " Main_Dropout (SpatialDropout1D  (None, 128, 128)    0           ['Main_Input[0][0]']             \n",
      " )                                                                                                \n",
      "                                                                                                  \n",
      " bidirectional_4 (Bidirectional  (None, 128, 1024)   2625536     ['Main_Dropout[0][0]']           \n",
      " )                                                                                                \n",
      "                                                                                                  \n",
      " bidirectional_5 (Bidirectional  (None, 128, 1024)   6295552     ['bidirectional_4[0][0]']        \n",
      " )                                                                                                \n",
      "                                                                                                  \n",
      " add_2 (Add)                    (None, 128, 1024)    0           ['bidirectional_4[0][0]',        \n",
      "                                                                  'bidirectional_5[0][0]']        \n",
      "                                                                                                  \n",
      " time_distributed_2 (TimeDistri  (None, 128, 115)    117875      ['add_2[0][0]']                  \n",
      " buted)                                                                                           \n",
      "                                                                                                  \n",
      "==================================================================================================\n",
      "Total params: 12,852,467\n",
      "Trainable params: 12,852,467\n",
      "Non-trainable params: 0\n",
      "__________________________________________________________________________________________________\n"
     ]
    }
   ],
   "source": [
    "model.compile(optimizer=\"adam\", loss=\"sparse_categorical_crossentropy\", metrics=[\"acc\"])\n",
    "model.summary()"
   ]
  },
  {
   "cell_type": "code",
   "execution_count": 93,
   "id": "b92a049c",
   "metadata": {},
   "outputs": [],
   "source": [
    "tf.config.run_functions_eagerly(True)"
   ]
  },
  {
   "cell_type": "code",
   "execution_count": 94,
   "id": "6c336059",
   "metadata": {
    "scrolled": false
   },
   "outputs": [
    {
     "name": "stdout",
     "output_type": "stream",
     "text": [
      "Epoch 1/12\n",
      "127/127 [==============================] - 9697s 76s/step - loss: 0.2556 - acc: 0.4117 - val_loss: 0.2341 - val_acc: 0.6389\n",
      "Epoch 2/12\n",
      "127/127 [==============================] - 8016s 63s/step - loss: 0.0991 - acc: 0.7603 - val_loss: 0.1038 - val_acc: 0.8337\n",
      "Epoch 3/12\n",
      "127/127 [==============================] - 8140s 64s/step - loss: 0.0532 - acc: 0.8693 - val_loss: 0.0653 - val_acc: 0.8961\n",
      "Epoch 4/12\n",
      "127/127 [==============================] - 8803s 69s/step - loss: 0.0364 - acc: 0.9077 - val_loss: 0.0493 - val_acc: 0.9189\n",
      "Epoch 5/12\n",
      "127/127 [==============================] - 7999s 63s/step - loss: 0.0277 - acc: 0.9274 - val_loss: 0.0403 - val_acc: 0.9292\n",
      "Epoch 6/12\n",
      "127/127 [==============================] - 7951s 63s/step - loss: 0.0217 - acc: 0.9411 - val_loss: 0.0368 - val_acc: 0.9341\n",
      "Epoch 7/12\n",
      "127/127 [==============================] - 8007s 63s/step - loss: 0.0181 - acc: 0.9505 - val_loss: 0.0357 - val_acc: 0.9333\n",
      "Epoch 8/12\n",
      "127/127 [==============================] - 7965s 63s/step - loss: 0.0153 - acc: 0.9565 - val_loss: 0.0325 - val_acc: 0.9410\n",
      "Epoch 9/12\n",
      "127/127 [==============================] - 8018s 63s/step - loss: 0.0129 - acc: 0.9626 - val_loss: 0.0320 - val_acc: 0.9403\n",
      "Epoch 10/12\n",
      "127/127 [==============================] - 8089s 64s/step - loss: 0.0109 - acc: 0.9673 - val_loss: 0.0295 - val_acc: 0.9467\n",
      "Epoch 11/12\n",
      "127/127 [==============================] - 8165s 64s/step - loss: 0.0092 - acc: 0.9730 - val_loss: 0.0301 - val_acc: 0.9462\n",
      "Epoch 12/12\n",
      "127/127 [==============================] - 8434s 66s/step - loss: 0.0078 - acc: 0.9772 - val_loss: 0.0324 - val_acc: 0.9423\n"
     ]
    }
   ],
   "source": [
    "history = model.fit(train_input,\n",
    "                    np.array(y).reshape(len(y), max_len, 1),\n",
    "                    batch_size=32, \n",
    "                    epochs=10, \n",
    "                    validation_split=0.1, \n",
    "                    verbose=1)"
   ]
  },
  {
   "cell_type": "code",
   "execution_count": 95,
   "id": "f272d26d",
   "metadata": {},
   "outputs": [
    {
     "name": "stderr",
     "output_type": "stream",
     "text": [
      "WARNING:absl:Function `_wrapped_model` contains input name(s) Word_Inputs, POS_Inputs, Char_Inputs with unsupported characters which will be renamed to word_inputs, pos_inputs, char_inputs in the SavedModel.\n"
     ]
    },
    {
     "name": "stdout",
     "output_type": "stream",
     "text": [
      "INFO:tensorflow:Assets written to: ./model/model_2.3\\assets\n"
     ]
    },
    {
     "name": "stderr",
     "output_type": "stream",
     "text": [
      "INFO:tensorflow:Assets written to: ./model/model_2.3\\assets\n"
     ]
    }
   ],
   "source": [
    "model.save(\"./model/model_2.3\")"
   ]
  },
  {
   "cell_type": "code",
   "execution_count": 96,
   "id": "a2ec1271",
   "metadata": {},
   "outputs": [],
   "source": [
    "hist = pd.DataFrame(history.history)"
   ]
  },
  {
   "cell_type": "code",
   "execution_count": 97,
   "id": "86eed521",
   "metadata": {
    "scrolled": false
   },
   "outputs": [
    {
     "data": {
      "image/png": "[encoded data removed]",
      "text/plain": [
       "<Figure size 864x864 with 1 Axes>"
      ]
     },
     "metadata": {},
     "output_type": "display_data"
    }
   ],
   "source": [
    "import matplotlib.pyplot as plt\n",
    "plt.style.use(\"ggplot\")\n",
    "plt.figure(figsize=(12,12))\n",
    "plt.plot(hist[\"acc\"], color=\"red\")\n",
    "plt.plot(hist[\"val_acc\"], color=\"blue\")\n",
    "plt.show()\n"
   ]
  },
  {
   "cell_type": "code",
   "execution_count": null,
   "id": "6f1099b9",
   "metadata": {},
   "outputs": [],
   "source": []
  }
 ],
 "metadata": {
  "kernelspec": {
   "display_name": "Python 3 (ipykernel)",
   "language": "python",
   "name": "python3"
  },
  "language_info": {
   "codemirror_mode": {
    "name": "ipython",
    "version": 3
   },
   "file_extension": ".py",
   "mimetype": "text/x-python",
   "name": "python",
   "nbconvert_exporter": "python",
   "pygments_lexer": "ipython3",
   "version": "3.8.13"
  }
 },
 "nbformat": 4,
 "nbformat_minor": 5
}
